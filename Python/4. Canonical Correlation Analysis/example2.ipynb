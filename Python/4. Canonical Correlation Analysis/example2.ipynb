{
 "cells": [
  {
   "cell_type": "markdown",
   "metadata": {},
   "source": [
    "# 정준상관분석 : 예시 (2)"
   ]
  },
  {
   "cell_type": "code",
   "execution_count": 1,
   "metadata": {},
   "outputs": [],
   "source": [
    "import pandas as pd\n",
    "import numpy as np\n",
    "from sklearn.cross_decomposition import CCA\n",
    "from scipy.stats import chi2"
   ]
  },
  {
   "cell_type": "code",
   "execution_count": 2,
   "metadata": {},
   "outputs": [
    {
     "name": "stdout",
     "output_type": "stream",
     "text": [
      "      Country   Agr  Min   Man   PS  Con    SI  Fin   SPS   TC\n",
      "0     Belgium   3.3  0.9  27.6  0.9  8.2  19.1  6.2  26.6  7.2\n",
      "1     Denmark   9.2  0.1  21.8  0.6  8.3  14.6  6.5  32.2  7.1\n",
      "2      France  10.8  0.8  27.5  0.9  8.9  16.8  6.0  22.6  5.7\n",
      "3  W. Germany   6.7  1.3  35.8  0.9  7.3  14.4  5.0  22.3  6.1\n",
      "4     Ireland  23.2  1.0  20.7  1.3  7.5  16.8  2.8  20.8  6.1\n"
     ]
    }
   ],
   "source": [
    "# 데이터 로드\n",
    "data = pd.read_csv(\"./EU_Jobs.csv\")\n",
    "print(data.head())\n",
    "\n",
    "# 결측치 확인 및 처리\n",
    "data.fillna(0, inplace=True)\n",
    "\n",
    "# X, Y 데이터 설정\n",
    "X = data.iloc[:, 1:5].values\n",
    "Y = data.iloc[:, 5:9].values"
   ]
  },
  {
   "cell_type": "code",
   "execution_count": 3,
   "metadata": {},
   "outputs": [],
   "source": [
    "# 정준상관분석 수행\n",
    "cca = CCA(n_components=1)\n",
    "cca.fit(X, Y)\n",
    "X_c, Y_c = cca.transform(X, Y)"
   ]
  },
  {
   "cell_type": "code",
   "execution_count": 4,
   "metadata": {},
   "outputs": [
    {
     "name": "stdout",
     "output_type": "stream",
     "text": [
      "Mean of canonical scores:\n",
      "[0.]\n",
      "Standard deviation of canonical scores:\n",
      "[0.7]\n",
      "Covariance of canonical scores:\n",
      "0.51\n"
     ]
    }
   ],
   "source": [
    "# 정준점수 계산\n",
    "score = X_c\n",
    "print(\"Mean of canonical scores:\")\n",
    "print(np.round(np.mean(score, axis=0), 2))\n",
    "print(\"Standard deviation of canonical scores:\")\n",
    "print(np.round(np.std(score, axis=0), 2))\n",
    "print(\"Covariance of canonical scores:\")\n",
    "print(np.round(np.cov(score.T), 2))"
   ]
  },
  {
   "cell_type": "code",
   "execution_count": 5,
   "metadata": {},
   "outputs": [
    {
     "name": "stdout",
     "output_type": "stream",
     "text": [
      "Wilks' lambda statistic: 0.004495680975669547\n",
      "Chi-squared statistic: 110.79508158868286\n",
      "p-value: 3.1665385456919904e-16\n"
     ]
    }
   ],
   "source": [
    "# Wilks' lambda 통계 계산 함수\n",
    "def wilks_lambda(canonical_corr, n, p, q):\n",
    "    wilks_stats = np.prod(1 - np.array(canonical_corr) ** 2)\n",
    "    chi_sq = -(n - 1 - (p + q + 1) / 2) * np.log(wilks_stats)\n",
    "    df = p * q\n",
    "    p_value = chi2.sf(chi_sq, df)\n",
    "    return wilks_stats, chi_sq, p_value\n",
    "\n",
    "# 정준상관계수 계산\n",
    "canonical_corr = [np.corrcoef(X_c[:, i], Y_c[:, i])[0, 1] for i in range(1)]\n",
    "n, p, q = X.shape[0], X.shape[1], Y.shape[1]\n",
    "\n",
    "wilks_stats, chi_sq, p_value = wilks_lambda(canonical_corr, n, p, q)\n",
    "print(\"Wilks' lambda statistic:\", wilks_stats)\n",
    "print(\"Chi-squared statistic:\", chi_sq)\n",
    "print(\"p-value:\", p_value)"
   ]
  },
  {
   "cell_type": "code",
   "execution_count": 6,
   "metadata": {},
   "outputs": [
    {
     "name": "stdout",
     "output_type": "stream",
     "text": [
      "Contribution (squared canonical correlations):\n",
      "[0.99550432]\n",
      "Cumulative contribution (%):\n",
      "[100.]\n"
     ]
    }
   ],
   "source": [
    "# 공헌도와 근사도 계산\n",
    "w = np.array(canonical_corr) ** 2\n",
    "print(\"Contribution (squared canonical correlations):\")\n",
    "print(w)\n",
    "print(\"Cumulative contribution (%):\")\n",
    "print(np.cumsum(w) / np.sum(w) * 100)"
   ]
  }
 ],
 "metadata": {
  "kernelspec": {
   "display_name": "myenv",
   "language": "python",
   "name": "python3"
  },
  "language_info": {
   "codemirror_mode": {
    "name": "ipython",
    "version": 3
   },
   "file_extension": ".py",
   "mimetype": "text/x-python",
   "name": "python",
   "nbconvert_exporter": "python",
   "pygments_lexer": "ipython3",
   "version": "3.12.5"
  }
 },
 "nbformat": 4,
 "nbformat_minor": 2
}
