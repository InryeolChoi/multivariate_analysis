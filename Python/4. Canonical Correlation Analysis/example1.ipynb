{
 "cells": [
  {
   "cell_type": "markdown",
   "metadata": {},
   "source": [
    "# 정준상관분석 : 예시 (1)"
   ]
  },
  {
   "cell_type": "markdown",
   "metadata": {},
   "source": [
    "## 자료 얻어내기"
   ]
  },
  {
   "cell_type": "code",
   "execution_count": 29,
   "metadata": {},
   "outputs": [],
   "source": [
    "import numpy as np\n",
    "import pandas as pd\n",
    "from scipy.stats import wishart\n",
    "from sklearn.preprocessing import StandardScaler\n",
    "from sklearn.cross_decomposition import CCA\n",
    "from statsmodels.multivariate.cancorr import CanCorr\n",
    "import matplotlib.pyplot as plt\n"
   ]
  },
  {
   "cell_type": "code",
   "execution_count": 30,
   "metadata": {},
   "outputs": [],
   "source": [
    "# 시드값 설정\n",
    "np.random.seed(2022)\n",
    "\n",
    "# 자료 만들기\n",
    "pp = 3\n",
    "Sigma = wishart.rvs(df=pp, scale=np.identity(pp), size=1)\n",
    "R1 = np.diag(1 / np.sqrt(np.diag(Sigma))) @ Sigma @ np.diag(1 / np.sqrt(np.diag(Sigma)))\n",
    "Sigma = wishart.rvs(df=pp, scale=np.identity(pp), size=1)\n",
    "R2 = np.diag(1 / np.sqrt(np.diag(Sigma))) @ Sigma @ np.diag(1 / np.sqrt(np.diag(Sigma)))"
   ]
  },
  {
   "cell_type": "code",
   "execution_count": 31,
   "metadata": {},
   "outputs": [
    {
     "name": "stdout",
     "output_type": "stream",
     "text": [
      "R1:\n",
      "      0     1     2\n",
      "0  1.00 -0.00 -0.15\n",
      "1 -0.00  1.00 -0.08\n",
      "2 -0.15 -0.08  1.00\n",
      "\n",
      "R2:\n",
      "      0     1     2\n",
      "0  1.00  0.26  0.30\n",
      "1  0.26  1.00  0.01\n",
      "2  0.30  0.01  1.00\n"
     ]
    }
   ],
   "source": [
    "print(\"R1:\")\n",
    "print(pd.DataFrame(np.round(R1, 2)))\n",
    "print(\"\\nR2:\")\n",
    "print(pd.DataFrame(np.round(R2, 2)))"
   ]
  },
  {
   "cell_type": "code",
   "execution_count": 32,
   "metadata": {},
   "outputs": [
    {
     "name": "stdout",
     "output_type": "stream",
     "text": [
      "Correlation matrix of d1:\n",
      "      0     1     2     3     4     5\n",
      "0  1.00 -0.00 -0.17 -0.01 -0.00 -0.01\n",
      "1 -0.00  1.00 -0.08  0.01  0.00  0.01\n",
      "2 -0.17 -0.08  1.00  0.01 -0.01  0.01\n",
      "3 -0.01  0.01  0.01  1.00  0.27  0.30\n",
      "4 -0.00  0.00 -0.01  0.27  1.00  0.02\n",
      "5 -0.01  0.01  0.01  0.30  0.02  1.00\n"
     ]
    }
   ],
   "source": [
    "# 자료 뽑기 & 상관성 확인\n",
    "nn = 10000\n",
    "ss = np.block([[R1, np.zeros_like(R1)], [np.zeros_like(R2), R2]])  # 자료 합치기\n",
    "pp2 = ss.shape[0]\n",
    "mu = np.zeros(pp2)\n",
    "d1 = np.random.multivariate_normal(mu, ss, nn)\n",
    "print(\"Correlation matrix of d1:\")\n",
    "print(pd.DataFrame(np.round(np.corrcoef(d1, rowvar=False), 2)))"
   ]
  },
  {
   "cell_type": "code",
   "execution_count": 33,
   "metadata": {},
   "outputs": [
    {
     "name": "stdout",
     "output_type": "stream",
     "text": [
      "Reordered correlation matrix of d1:\n",
      "      X1    X2    X3    X4    X5    X6\n",
      "X1  1.00 -0.01 -0.00 -0.00 -0.17 -0.01\n",
      "X2 -0.01  1.00  0.01  0.27  0.01  0.30\n",
      "X3 -0.00  0.01  1.00  0.00 -0.08  0.01\n",
      "X4 -0.00  0.27  0.00  1.00 -0.01  0.02\n",
      "X5 -0.17  0.01 -0.08 -0.01  1.00  0.01\n",
      "X6 -0.01  0.30  0.01  0.02  0.01  1.00\n"
     ]
    }
   ],
   "source": [
    "# 행과 열을 교체한 새 자료\n",
    "d1 = d1[:, np.array([i for sub in zip(range(pp2//2), range(pp2//2, pp2)) for i in sub])]\n",
    "d1 = pd.DataFrame(d1, columns=[f'X{i+1}' for i in range(pp2)])\n",
    "print(\"Reordered correlation matrix of d1:\")\n",
    "print(pd.DataFrame(np.round(d1.corr(), 2)))"
   ]
  },
  {
   "cell_type": "code",
   "execution_count": 34,
   "metadata": {},
   "outputs": [
    {
     "name": "stdout",
     "output_type": "stream",
     "text": [
      "Matrix correlation between X and Y:\n",
      "X1   NaN\n",
      "X2   NaN\n",
      "X3   NaN\n",
      "X4   NaN\n",
      "X5   NaN\n",
      "X6   NaN\n",
      "dtype: float64\n"
     ]
    }
   ],
   "source": [
    "# 행렬 간 상관관계\n",
    "X = d1.iloc[:, :3]\n",
    "Y = d1.iloc[:, 3:]\n",
    "print(\"Matrix correlation between X and Y:\")\n",
    "print(np.round(X.corrwith(Y), 2))"
   ]
  },
  {
   "cell_type": "markdown",
   "metadata": {},
   "source": [
    "## 정준상관분석 수행"
   ]
  },
  {
   "cell_type": "code",
   "execution_count": 35,
   "metadata": {},
   "outputs": [
    {
     "name": "stdout",
     "output_type": "stream",
     "text": [
      "Canonical correlations:\n",
      "[0.39 0.19 0.01]\n"
     ]
    }
   ],
   "source": [
    "cca = CCA(n_components=3)\n",
    "cca.fit(X, Y)\n",
    "X_c, Y_c = cca.transform(X, Y)\n",
    "\n",
    "print(\"Canonical correlations:\")\n",
    "canonical_corr = [np.corrcoef(X_c[:, i], Y_c[:, i])[0, 1] for i in range(3)]\n",
    "print(np.round(canonical_corr, 2))"
   ]
  },
  {
   "cell_type": "markdown",
   "metadata": {},
   "source": [
    "## 정준변수점수 도출"
   ]
  },
  {
   "cell_type": "code",
   "execution_count": 36,
   "metadata": {},
   "outputs": [
    {
     "name": "stdout",
     "output_type": "stream",
     "text": [
      "Mean of canonical scores:\n",
      "[ 0. -0.  0.]\n",
      "Standard deviation of canonical scores:\n",
      "[1. 1. 1.]\n",
      "Covariance of canonical scores:\n",
      "[[ 1. -0.  0.]\n",
      " [-0.  1. -0.]\n",
      " [ 0. -0.  1.]]\n"
     ]
    }
   ],
   "source": [
    "score = X_c\n",
    "print(\"Mean of canonical scores:\")\n",
    "print(np.round(np.mean(score, axis=0), 2))\n",
    "print(\"Standard deviation of canonical scores:\")\n",
    "print(np.round(np.std(score, axis=0), 2))\n",
    "print(\"Covariance of canonical scores:\")\n",
    "print(np.round(np.cov(score.T), 2))"
   ]
  },
  {
   "cell_type": "markdown",
   "metadata": {},
   "source": [
    "## 적정 수의 정준변수쌍 산정"
   ]
  },
  {
   "cell_type": "code",
   "execution_count": 37,
   "metadata": {},
   "outputs": [
    {
     "name": "stdout",
     "output_type": "stream",
     "text": [
      "Wilks' lambda statistic: 0.8150953636783438\n"
     ]
    }
   ],
   "source": [
    "# 적정한 정준변수쌍 적정 수 산정\n",
    "def wilks_lambda(canonical_corr):\n",
    "    wilks_stats = (1 - np.array(canonical_corr) ** 2)\n",
    "    wilks_lambda_stat = np.prod(wilks_stats)\n",
    "    return wilks_lambda_stat\n",
    "\n",
    "wilks_stat = wilks_lambda(canonical_corr)\n",
    "print(\"Wilks' lambda statistic:\", wilks_stat)\n"
   ]
  },
  {
   "cell_type": "markdown",
   "metadata": {},
   "source": [
    "## 공헌도와 근사도"
   ]
  },
  {
   "cell_type": "code",
   "execution_count": 38,
   "metadata": {},
   "outputs": [
    {
     "name": "stdout",
     "output_type": "stream",
     "text": [
      "Contribution (squared canonical correlations):\n",
      "[1.55681797e-01 3.45500840e-02 6.32701976e-05]\n"
     ]
    }
   ],
   "source": [
    "# 공헌도와 근사도\n",
    "canonical_correlations = np.array(canonical_corr)\n",
    "w = canonical_correlations**2\n",
    "print(\"Contribution (squared canonical correlations):\")\n",
    "print(w)"
   ]
  },
  {
   "cell_type": "code",
   "execution_count": 39,
   "metadata": {},
   "outputs": [
    {
     "name": "stdout",
     "output_type": "stream",
     "text": [
      "Cumulative contribution (%):\n",
      "[ 81.81070091  99.96675155 100.        ]\n"
     ]
    }
   ],
   "source": [
    "print(\"Cumulative contribution (%):\")\n",
    "print(np.cumsum(w) / np.sum(w) * 100)"
   ]
  },
  {
   "cell_type": "markdown",
   "metadata": {},
   "source": [
    "# 패키지 없이 구현하기"
   ]
  },
  {
   "cell_type": "code",
   "execution_count": 40,
   "metadata": {},
   "outputs": [],
   "source": [
    "ss = np.cov(d1, rowvar=False)\n",
    "Sxx = ss[:3, :3]\n",
    "Sxy = ss[:3, 3:]\n",
    "Syy = ss[3:, 3:]"
   ]
  },
  {
   "cell_type": "code",
   "execution_count": 41,
   "metadata": {},
   "outputs": [],
   "source": [
    "def sqrtm_inv(mat):\n",
    "    eigvals, eigvecs = np.linalg.eigh(mat)\n",
    "    return eigvecs @ np.diag(1/np.sqrt(eigvals)) @ eigvecs.T\n",
    "\n",
    "Sxx_inv_sqrt = sqrtm_inv(Sxx)\n",
    "Syy_inv_sqrt = sqrtm_inv(Syy)"
   ]
  },
  {
   "cell_type": "code",
   "execution_count": 42,
   "metadata": {},
   "outputs": [],
   "source": [
    "# 연산1\n",
    "tmp = Sxx_inv_sqrt @ Sxy @ np.linalg.inv(Syy) @ Sxy.T @ Sxx_inv_sqrt\n",
    "eigvals, eigvecs = np.linalg.eigh(tmp)\n",
    "P = eigvecs\n",
    "u = Sxx_inv_sqrt @ P\n",
    "\n",
    "# 연산2\n",
    "tmp = Syy_inv_sqrt @ Sxy.T @ np.linalg.inv(Sxx) @ Sxy @ Syy_inv_sqrt\n",
    "eigvals, eigvecs = np.linalg.eigh(tmp)\n",
    "Q = eigvecs\n",
    "v = Syy_inv_sqrt @ Q"
   ]
  },
  {
   "cell_type": "code",
   "execution_count": 43,
   "metadata": {},
   "outputs": [
    {
     "name": "stdout",
     "output_type": "stream",
     "text": [
      "Canonical coefficients from library (X):\n",
      "[[ 0.0004  0.0092 -0.0041]\n",
      " [-0.01    0.0004 -0.0002]\n",
      " [ 0.0001  0.0041  0.0091]]\n",
      "Computed canonical coefficients (X):\n",
      "[[ 0.4065  0.9167 -0.0374]\n",
      " [ 0.0226  0.0392  1.0003]\n",
      " [-0.9133  0.4096 -0.0096]]\n"
     ]
    }
   ],
   "source": [
    "# 라이브러리와 비교\n",
    "print(\"Canonical coefficients from library (X):\")\n",
    "print(np.round(model.y_cancoef, 4))\n",
    "print(\"Computed canonical coefficients (X):\")\n",
    "print(np.round(u, 4))"
   ]
  },
  {
   "cell_type": "code",
   "execution_count": 44,
   "metadata": {},
   "outputs": [
    {
     "name": "stdout",
     "output_type": "stream",
     "text": [
      "Canonical coefficients from library (Y):\n",
      "[[-0.0066  0.0004 -0.0075]\n",
      " [-0.0004 -0.0099 -0.0004]\n",
      " [-0.0073  0.0001  0.0067]]\n",
      "Computed canonical coefficients (Y):\n",
      "[[-0.7492  0.0414 -0.6627]\n",
      " [-0.0363 -0.9859 -0.0426]\n",
      " [ 0.6684  0.0122 -0.7316]]\n"
     ]
    }
   ],
   "source": [
    "print(\"Canonical coefficients from library (Y):\")\n",
    "print(np.round(model.x_cancoef, 4))\n",
    "print(\"Computed canonical coefficients (Y):\")\n",
    "print(np.round(v, 4))"
   ]
  }
 ],
 "metadata": {
  "kernelspec": {
   "display_name": "myenv",
   "language": "python",
   "name": "python3"
  },
  "language_info": {
   "codemirror_mode": {
    "name": "ipython",
    "version": 3
   },
   "file_extension": ".py",
   "mimetype": "text/x-python",
   "name": "python",
   "nbconvert_exporter": "python",
   "pygments_lexer": "ipython3",
   "version": "3.12.5"
  }
 },
 "nbformat": 4,
 "nbformat_minor": 2
}
