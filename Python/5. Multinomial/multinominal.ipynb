{
 "cells": [
  {
   "cell_type": "markdown",
   "metadata": {},
   "source": [
    "# 다항분포 (Multinomial Distribution)"
   ]
  },
  {
   "cell_type": "markdown",
   "metadata": {},
   "source": [
    "## 다항분포란?\n",
    "다항분포는 여러 범주의 사건들에 대한 일련의 독립적인 시행에서 각 범주가 발생할 확률을 나타내는 확률분포다.  \n",
    "이는 이산 확률분포 중 하나로, 한 번의 시행에서 여러 가지 결과가 나올 수 있는 경우에 사용된다.\n",
    "\n",
    "다항분포는 이항분포의 일반화된 형태로 볼 수 있다.   이항분포가 두 가지 범주(성공과 실패)에 대한 분포를 다룬다면, 다항분포는 세 가지 이상 범주에 대한 분포를 다룬다."
   ]
  },
  {
   "cell_type": "markdown",
   "metadata": {},
   "source": [
    "## 다항분포의 사용 사례\n",
    "다항분포는 다음과 같은 경우에 사용된다:\n",
    "1. **선거에서의 득표율**: 여러 후보가 있는 선거에서 각 후보가 얻는 득표 수.\n",
    "2. **여론조사**: 여러 선택지가 있는 여론조사에서 각 선택지가 선택될 확률.\n",
    "3. **유전자형 빈도**: 유전자형이 여러 가지인 경우, 각 유전자형의 발생 빈도."
   ]
  },
  {
   "cell_type": "markdown",
   "metadata": {},
   "source": [
    "## 다항분포의 수식\n",
    "다항분포는 다음과 같은 확률 질량 함수(pmf)를 가진다:\n",
    "$$\n",
    "P(X_1 = x_1, X_2 = x_2, \\ldots, X_k = x_k) = \\frac{n!}{x_1! x_2! \\ldots x_k!} p_1^{x_1} p_2^{x_2} \\ldots p_k^{x_k}\n",
    "$$\n",
    "여기서:\n",
    "- $n$: 총 시행 횟수\n",
    "- $k$: 범주의 수\n",
    "- $x_i$: 범주 $i$가 발생한 횟수\n",
    "- $p_i$: 범주 $i$가 발생할 확률\n",
    "- $\\sum_{i=1}^k x_i = n$\n",
    "- $\\sum_{i=1}^k p_i = 1$"
   ]
  },
  {
   "cell_type": "markdown",
   "metadata": {},
   "source": [
    "## 다항분포의 평균과 분산\n",
    "다항분포에서 각 범주 $i$의 발생 횟수 $X_i$에 대한 평균과 분산은 다음과 같다:\n",
    "\n",
    "- 평균: $E[X_i] = n p_i$\n",
    "- 분산: $Var[X_i] = n p_i (1 - p_i)$\n",
    "- 공분산: $Cov[X_i, X_j] = -n p_i p_j \\quad (i \\ne j)$"
   ]
  },
  {
   "cell_type": "markdown",
   "metadata": {},
   "source": [
    "## 모멘트 생성 함수 (MGF)\n",
    "다항분포의 모멘트 생성 함수는 다음과 같다:\n",
    "$$\n",
    "M(t_1, t_2, \\ldots, t_k) = \\left( \\sum_{i=1}^k p_i e^{t_i} \\right)^n\n",
    "$$"
   ]
  },
  {
   "cell_type": "markdown",
   "metadata": {},
   "source": [
    "## 파이썬을 이용한 다항분포 예시"
   ]
  },
  {
   "cell_type": "code",
   "execution_count": 1,
   "metadata": {},
   "outputs": [
    {
     "name": "stdout",
     "output_type": "stream",
     "text": [
      "샘플의 평균: [2.042 4.951 3.007]\n",
      "샘플의 분산: [1.770236 2.758599 2.190951]\n"
     ]
    }
   ],
   "source": [
    "import numpy as np\n",
    "import matplotlib.pyplot as plt\n",
    "\n",
    "# 다항분포 샘플 생성\n",
    "n = 10  # 시행 횟수\n",
    "p = [0.2, 0.5, 0.3]  # 각 범주의 확률\n",
    "\n",
    "# 다항분포로부터 샘플 생성\n",
    "samples = np.random.multinomial(n, p, size=1000)\n",
    "\n",
    "# 샘플의 평균 계산\n",
    "mean_samples = np.mean(samples, axis=0)\n",
    "print(\"샘플의 평균:\", mean_samples)\n",
    "\n",
    "# 샘플의 분산 계산\n",
    "var_samples = np.var(samples, axis=0)\n",
    "print(\"샘플의 분산:\", var_samples)"
   ]
  },
  {
   "cell_type": "code",
   "execution_count": 2,
   "metadata": {},
   "outputs": [
    {
     "data": {
      "image/png": "[encoded data removed]",
      "text/plain": [
       "<Figure size 640x480 with 1 Axes>"
      ]
     },
     "metadata": {},
     "output_type": "display_data"
    }
   ],
   "source": [
    "# 다항분포의 pmf 시각화\n",
    "categories = ['Category 1', 'Category 2', 'Category 3']\n",
    "sample_counts = np.sum(samples, axis=0)\n",
    "\n",
    "plt.bar(categories, sample_counts)\n",
    "plt.xlabel('Category')\n",
    "plt.ylabel('Frequency')\n",
    "plt.title('Frequencies of Categories in Multinomial Distribution')\n",
    "plt.show()"
   ]
  },
  {
   "cell_type": "code",
   "execution_count": 3,
   "metadata": {},
   "outputs": [
    {
     "name": "stdout",
     "output_type": "stream",
     "text": [
      "MGF 값: 22026.465794806703\n"
     ]
    }
   ],
   "source": [
    "# 모멘트 생성 함수 (MGF) 계산\n",
    "def mgf(t, p, n):\n",
    "    return (np.sum([p_i * np.exp(t_i) for p_i, t_i in zip(p, t)])) ** n\n",
    "\n",
    "t = [1, 1, 1]  # t1, t2, t3 값\n",
    "mgf_value = mgf(t, p, n)\n",
    "print(\"MGF 값:\", mgf_value)"
   ]
  }
 ],
 "metadata": {
  "kernelspec": {
   "display_name": "Python 3",
   "language": "python",
   "name": "python3"
  },
  "language_info": {
   "codemirror_mode": {
    "name": "ipython",
    "version": 3
   },
   "file_extension": ".py",
   "mimetype": "text/x-python",
   "name": "python",
   "nbconvert_exporter": "python",
   "pygments_lexer": "ipython3",
   "version": "3.12.4"
  }
 },
 "nbformat": 4,
 "nbformat_minor": 4
}
