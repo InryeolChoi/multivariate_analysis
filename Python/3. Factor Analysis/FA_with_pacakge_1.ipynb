{
 "cells": [
  {
   "cell_type": "markdown",
   "metadata": {},
   "source": [
    "# 요인분석 (1)"
   ]
  },
  {
   "cell_type": "markdown",
   "metadata": {},
   "source": [
    "## 요인분석의 필요성\n",
    "* 요인분석이 정말 필요한가?를 따져보는 방법이 있다.\n",
    "* 공통요인()과 기타요인"
   ]
  },
  {
   "cell_type": "code",
   "execution_count": null,
   "metadata": {},
   "outputs": [],
   "source": []
  }
 ],
 "metadata": {
  "language_info": {
   "name": "python"
  }
 },
 "nbformat": 4,
 "nbformat_minor": 2
}
