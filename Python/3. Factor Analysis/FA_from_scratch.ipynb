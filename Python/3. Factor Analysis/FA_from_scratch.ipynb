{
 "cells": [
  {
   "cell_type": "markdown",
   "metadata": {},
   "source": [
    "# 요인분석 (FA)"
   ]
  },
  {
   "cell_type": "markdown",
   "metadata": {},
   "source": [
    "## 요인분석이란?\n",
    "* 요인분석(Factor Analysis, FA)은 관찰된 변수들의 숨겨진 요인을 찾아내는 통계 기법.\n",
    "* 이러한 요인들은 관찰된 변수들 간의 공통적인 변동성을 설명하며, 데이터의 구조를 단순화하고 이해하는 데 도움을 준다."
   ]
  },
  {
   "cell_type": "markdown",
   "metadata": {},
   "source": [
    "## 요인분석이 필요한 이유\n",
    "1. **데이터 차원 축소**: 많은 변수들 간의 상관관계를 소수의 요인으로 줄임으로써 데이터의 차원을 축소할 수 있다.\n",
    "2. **해석 용이성**: 복잡한 데이터 구조를 간단하게 만들어 해석을 용이하게 한다.\n",
    "3. **노이즈 감소**: 불필요한 변동성을 줄이고 중요한 패턴을 강조한다.\n",
    "4. **변수 선택**: 중요한 변수를 식별하고 덜 중요한 변수를 제거하는 데 도움을 준다."
   ]
  },
  {
   "cell_type": "markdown",
   "metadata": {},
   "source": [
    "## 요인분석 진행 방법\n",
    "1. **데이터 준비**: 분석할 데이터를 수집하고, 결측값을 처리하고, 변수를 정규화한다.\n",
    "2. **상관 행렬 계산**: 변수들 간의 상관 관계를 계산하여 상관 행렬을 만든다.\n",
    "3. **고유값 분해**: 상관 행렬의 고유값과 고유벡터를 계산하여 요인을 추출한다.\n",
    "4. **요인 회전**: 요인의 해석 가능성을 높이기 위해 요인 회전을 수행한다 (예: 직교 회전, 사각 회전).\n",
    "5. **요인 점수 계산**: 각 관측치에 대한 요인 점수를 계산한다.\n",
    "6. **결과 해석**: 요인 패턴과 요인 점수를 해석하여 데이터의 구조를 이해한다."
   ]
  },
  {
   "cell_type": "markdown",
   "metadata": {},
   "source": [
    "## 요인분석과 주성분분석의 차이점\n",
    "요인분석과 주성분분석(PCA)은 둘 다 차원 축소 기법이지만, 접근 방식과 목적이 다르다.\n",
    "\n",
    "1. **목적**:\n",
    "   - **요인분석**: 변수들 간의 상관관계를 설명하는 잠재 요인을 식별하는 데 중점을 둔다.\n",
    "   - **주성분분석**: 데이터의 분산을 최대한으로 설명하는 주성분을 식별하는 데 중점을 둔다.\n",
    "\n",
    "2. **모델**:\n",
    "   - **요인분석**: 관찰된 변수들은 잠재 요인의 선형 결합으로 설명된다.\n",
    "   - **주성분분석**: 주성분은 관찰된 변수들의 선형 결합으로 형성된다.\n",
    "\n",
    "3. **결과 해석**:\n",
    "   - **요인분석**: 요인 적재량(변수와 요인 간의 상관관계)을 통해 요인을 해석한다.\n",
    "   - **주성분분석**: 주성분 적재량(변수와 주성분 간의 상관관계)을 통해 주성분을 해석한다."
   ]
  },
  {
   "cell_type": "markdown",
   "metadata": {},
   "source": [
    "# 패키지 없이 구현하기\n",
    "* 패키지 없이 요인분석을 구현해보자.\n",
    "* 단, 시각화 부분은 패키지를 사용"
   ]
  },
  {
   "cell_type": "code",
   "execution_count": 123,
   "metadata": {},
   "outputs": [],
   "source": [
    "# 패키지 불러오기\n",
    "import numpy as np\n",
    "import pandas as pd\n",
    "from scipy.linalg import sqrtm\n",
    "from sklearn.preprocessing import StandardScaler\n",
    "from scipy.stats import multivariate_normal"
   ]
  },
  {
   "cell_type": "code",
   "execution_count": 124,
   "metadata": {},
   "outputs": [],
   "source": [
    "# 시드값 설정\n",
    "np.random.seed(2023)\n",
    "\n",
    "# 자료 만들기\n",
    "D = np.diag([1, 2, 0.4, 2])\n",
    "data = [1, 0.6, 0.1, -0.1,\n",
    "        0.6, 1, 0.2, -0.2,\n",
    "        0.1, 0.2, 1, 0.7,\n",
    "       -0.1, -0.2, 0.7, 1]\n",
    "rr = np.array(data).reshape(4, 4)\n",
    "Sigma = sqrtm(D) @ rr @ sqrtm(D)\n",
    "\n",
    "n = 10000\n",
    "mu = np.zeros(rr.shape[0])\n",
    "np.random.seed(2023)\n",
    "d1 = StandardScaler().fit_transform(multivariate_normal.rvs(mean=mu, cov=Sigma, size=n))"
   ]
  },
  {
   "cell_type": "markdown",
   "metadata": {},
   "source": [
    "## 요인분석의 가정\n",
    "* 관찰된 변수들 $X$가 잠재 요인 $F$의 선형 결합으로 표현된다고 가정.\n",
    "$$X = \\Delta F + \\epsilon$$\n",
    "\n",
    "여기서:\n",
    "- $X$는 $p$개의 관찰된 변수들로 이루어진 벡터.\n",
    "- $\\Lambda$는 $p \\times m$ 크기의 요인 적재 행렬 (Factor Loadings).\n",
    "- $F$는 $m$개의 잠재 요인들로 이루어진 벡터.\n",
    "- $\\epsilon$은 오차 벡터로, 각 관찰된 변수의 고유 변동성.\n",
    "\n",
    "즉, 변수들 $X$는 원인들 $F$의 선형결합이고, 그 가중치를 $\\Lambda$로 표현.\n",
    "* 변수들 $X$는 주어진 데이터이고, 원인들 $F$ 역시 정하기 나름이다.\n",
    "* 우리가 구하려는 것은 $\\Delta$와 $\\epsilon$."
   ]
  },
  {
   "cell_type": "markdown",
   "metadata": {},
   "source": [
    "## 공분산행렬과 그 분해\n",
    "* 변수들 $X$가 주어진 데이터일때, 그 공분산행렬 $R$은 다음과 같이 분해할 수 있다.\n",
    "\n",
    "$$\n",
    "R = \\Delta \\Delta^T + \\Psi\n",
    "$$\n",
    "\n",
    "* 즉 $\\Delta$와 $\\epsilon$을 구하기 위해 $X$에서 $R$을 구한 뒤, 이를 분해한다.\n",
    "* 성분 중 일부분을 이용해 $\\Delta \\Delta^T$로, 나머지 성분으로 $\\Psi$를 만든다."
   ]
  },
  {
   "cell_type": "code",
   "execution_count": 125,
   "metadata": {},
   "outputs": [
    {
     "name": "stdout",
     "output_type": "stream",
     "text": [
      "공분산 행렬 R:\n",
      "\n",
      "          0         1         2         3\n",
      "0  1.000100  0.591647  0.107398 -0.100142\n",
      "1  0.591647  1.000100  0.215008 -0.193681\n",
      "2  0.107398  0.215008  1.000100  0.697223\n",
      "3 -0.100142 -0.193681  0.697223  1.000100\n"
     ]
    }
   ],
   "source": [
    "# 자료의 공분산행렬 R 도출\n",
    "R = np.cov(d1, rowvar=False)\n",
    "print(\"공분산 행렬 R:\\n\")\n",
    "print(pd.DataFrame(R))"
   ]
  },
  {
   "cell_type": "code",
   "execution_count": 161,
   "metadata": {},
   "outputs": [],
   "source": [
    "# 행렬 R의 고유값 분해\n",
    "eigenvalues, eigenvectors = np.linalg.eigh(R)\n",
    "idx = np.argsort(eigenvalues)[::-1]  # 고유값 내림차순 정렬 인덱스\n",
    "eigenvalues = eigenvalues[idx]\n",
    "eigenvectors = eigenvectors[:, idx]\n",
    "U = eigenvectors\n",
    "L = np.diag(eigenvalues)"
   ]
  },
  {
   "cell_type": "markdown",
   "metadata": {},
   "source": [
    "* 공분산 행렬의 고유값은 각 요인이 데이터의 총 분산에서 차지하는 비율을 나타낸다. \n",
    "* 즉, 고유값이 클수록 해당 요인은 중요한 정보를 담고 있다."
   ]
  },
  {
   "cell_type": "markdown",
   "metadata": {},
   "source": [
    "* 따라서, 행렬 R의 1, 2번째 성분과 3, 4번째 성분을 분리.\n",
    "* 행렬 R의 1, 2번째 성분을 재구성해 만든 `Rm`\n",
    "* 행렬 R의 3, 4번째 성분을 재구성해 만든 `Rmr`"
   ]
  },
  {
   "cell_type": "code",
   "execution_count": 162,
   "metadata": {},
   "outputs": [
    {
     "name": "stdout",
     "output_type": "stream",
     "text": [
      "R의 1st, 2nd 성분 (Rm):\n",
      "\n",
      "       0      1      2      3\n",
      "0  0.761  0.789  0.179 -0.174\n",
      "1  0.789  0.819  0.195 -0.172\n",
      "2  0.179  0.195  0.890  0.808\n",
      "3 -0.174 -0.172  0.808  0.890\n"
     ]
    }
   ],
   "source": [
    "# 행렬 R의 1, 2번째 성분을 사용하여 만든 행렬 Rm\n",
    "m = 2\n",
    "Um = U[:, :m]\n",
    "Lm = L[:m, :m]\n",
    "Rm = Um @ Lm @ Um.T\n",
    "print(\"R의 1st, 2nd 성분 (Rm):\\n\")\n",
    "print(pd.DataFrame(np.round(Rm, 3)))"
   ]
  },
  {
   "cell_type": "code",
   "execution_count": 163,
   "metadata": {},
   "outputs": [
    {
     "name": "stdout",
     "output_type": "stream",
     "text": [
      "R - Rm = \n",
      "\n",
      "       0      1      2      3\n",
      "0  0.239 -0.198 -0.072  0.074\n",
      "1 -0.198  0.181  0.020 -0.022\n",
      "2 -0.072  0.020  0.110 -0.110\n",
      "3  0.074 -0.022 -0.110  0.110\n"
     ]
    }
   ],
   "source": [
    "# R과 Rm의 차이\n",
    "print(\"R - Rm = \\n\")\n",
    "print(pd.DataFrame(np.round(R - Rm, 3)))"
   ]
  },
  {
   "cell_type": "code",
   "execution_count": 164,
   "metadata": {},
   "outputs": [
    {
     "name": "stdout",
     "output_type": "stream",
     "text": [
      "R의 3rd, 4th 성분 (Rmr):\n",
      "\n",
      "       0      1      2      3\n",
      "0  0.239 -0.198 -0.072  0.074\n",
      "1 -0.198  0.181  0.020 -0.022\n",
      "2 -0.072  0.020  0.110 -0.110\n",
      "3  0.074 -0.022 -0.110  0.110\n"
     ]
    }
   ],
   "source": [
    "# R의 3, 4번째 성분을 사용하여 만든 행렬 Rmr\n",
    "Umr = U[:, m:]\n",
    "Lmr = L[m:, m:]\n",
    "Rmr = Umr @ Lmr @ Umr.T\n",
    "print(\"R의 3rd, 4th 성분 (Rmr):\\n\")\n",
    "print(pd.DataFrame(np.round(Rmr, 3)))"
   ]
  },
  {
   "cell_type": "markdown",
   "metadata": {},
   "source": [
    "`R - Rm`과 `Rmr`이 같다는 것을 알 수 있다."
   ]
  },
  {
   "cell_type": "markdown",
   "metadata": {},
   "source": [
    "## $\\Delta$와 $\\Psi$ 구하기\n",
    "\n",
    "$\\Psi$는 대각행렬로 생각. \n",
    "- 각 변수의 고유 변동성이 서로 독립적이며, 다른 변수들과의 공분산이 0으로 가정한다는 뜻.\n",
    "- 마치 다중회귀분석에서 오차항의 공분산이 $\\sigma^2 I$인 것과 비슷한 논리\n",
    "- 따라서 `Rmr`의 대각성분만을 추출해 대각행렬을 만들어 `psi`를 만듬"
   ]
  },
  {
   "cell_type": "code",
   "execution_count": 169,
   "metadata": {},
   "outputs": [
    {
     "name": "stdout",
     "output_type": "stream",
     "text": [
      "\n",
      "대각 행렬 (psi):\n",
      "       0       1       2       3\n",
      "0  0.239  0.0000  0.0000  0.0000\n",
      "1  0.000  0.1813  0.0000  0.0000\n",
      "2  0.000  0.0000  0.1103  0.0000\n",
      "3  0.000  0.0000  0.0000  0.1104\n"
     ]
    }
   ],
   "source": [
    "# psi 구하기\n",
    "psi = np.diag(np.diag(Rmr))\n",
    "psi = np.round(psi, 4)\n",
    "\n",
    "print(\"\\n대각 행렬 (psi):\")\n",
    "print(pd.DataFrame(psi))"
   ]
  },
  {
   "cell_type": "markdown",
   "metadata": {},
   "source": [
    "이후 $\\Delta \\Delta^T$ = `ddt`를 만듬.\n",
    "* `ddt`를 다시 고유값 분해. \n",
    "* 주성분을 골라서 $\\Delta \\Delta^T$의 근사값을 도출"
   ]
  },
  {
   "cell_type": "code",
   "execution_count": 179,
   "metadata": {},
   "outputs": [
    {
     "name": "stdout",
     "output_type": "stream",
     "text": [
      "[1.58855549 1.45728909 0.25576095 0.05779451]\n",
      "설명비율: [0.47286881 0.90666326 0.98279618 1.        ]\n"
     ]
    }
   ],
   "source": [
    "# ddt 만들어보기\n",
    "ddT = R - psi\n",
    "\n",
    "# 고유값 분해 후 다시 변수 축소\n",
    "eigenvalues_2, eigenvectors_2 = np.linalg.eigh(ddT)\n",
    "idx_2 = np.argsort(eigenvalues_2)[::-1]\n",
    "eigenvalues_2 = eigenvalues_2[idx_2]\n",
    "eigenvectors_2 = eigenvectors_2[:, idx_2]\n",
    "\n",
    "# 설명비율로 변수 고르기\n",
    "l1 = eigenvalues_2\n",
    "print(l1)\n",
    "explained_variance_ratio = np.cumsum(l1) / np.sum(l1)\n",
    "print(\"설명비율:\", explained_variance_ratio)"
   ]
  },
  {
   "cell_type": "code",
   "execution_count": 180,
   "metadata": {},
   "outputs": [],
   "source": [
    "# 2개를 고르는 것으로 보고 근사값 도출\n",
    "U_2 = eigenvectors_2[:, :2]\n",
    "L_2 = np.diag(eigenvalues_2[:2])\n",
    "approx_dd_T = U_2 @ L_2 @ U_2.T"
   ]
  },
  {
   "cell_type": "code",
   "execution_count": 181,
   "metadata": {},
   "outputs": [
    {
     "name": "stdout",
     "output_type": "stream",
     "text": [
      "\n",
      "근사값 (approx.dd.T) + 대각 행렬 (Rmr):\n",
      "       0      1      2      3\n",
      "0  0.868  0.685  0.165 -0.159\n",
      "1  0.685  0.927  0.188 -0.166\n",
      "2  0.165  0.188  0.946  0.752\n",
      "3 -0.159 -0.166  0.752  0.945\n",
      "\n",
      "원래의 공분산 행렬 R:\n",
      "       0      1      2      3\n",
      "0  1.000  0.592  0.107 -0.100\n",
      "1  0.592  1.000  0.215 -0.194\n",
      "2  0.107  0.215  1.000  0.697\n",
      "3 -0.100 -0.194  0.697  1.000\n"
     ]
    }
   ],
   "source": [
    "# 원래의 R과 비교해보기\n",
    "print(\"\\n근사값 (approx.dd.T) + 대각 행렬 (Rmr):\")\n",
    "print(pd.DataFrame(np.round(approx_dd_T + np.diag(np.diag(Rmr)), 3)))\n",
    "\n",
    "print(\"\\n원래의 공분산 행렬 R:\")\n",
    "print(pd.DataFrame(np.round(R, 3)))"
   ]
  },
  {
   "cell_type": "markdown",
   "metadata": {},
   "source": [
    "어느 정도 비슷한 값이 나온 것이 알 수 있다.  \n",
    "이를 근거로 인제 $\\Delta$를 구해보자"
   ]
  },
  {
   "cell_type": "code",
   "execution_count": 185,
   "metadata": {},
   "outputs": [
    {
     "data": {
      "text/html": [
       "<div>\n",
       "<style scoped>\n",
       "    .dataframe tbody tr th:only-of-type {\n",
       "        vertical-align: middle;\n",
       "    }\n",
       "\n",
       "    .dataframe tbody tr th {\n",
       "        vertical-align: top;\n",
       "    }\n",
       "\n",
       "    .dataframe thead th {\n",
       "        text-align: right;\n",
       "    }\n",
       "</style>\n",
       "<table border=\"1\" class=\"dataframe\">\n",
       "  <thead>\n",
       "    <tr style=\"text-align: right;\">\n",
       "      <th></th>\n",
       "      <th>0</th>\n",
       "      <th>1</th>\n",
       "      <th>2</th>\n",
       "      <th>3</th>\n",
       "    </tr>\n",
       "  </thead>\n",
       "  <tbody>\n",
       "    <tr>\n",
       "      <th>0</th>\n",
       "      <td>0.286872</td>\n",
       "      <td>-0.823884</td>\n",
       "      <td>0.484493</td>\n",
       "      <td>-0.065463</td>\n",
       "    </tr>\n",
       "    <tr>\n",
       "      <th>1</th>\n",
       "      <td>0.306612</td>\n",
       "      <td>-0.851368</td>\n",
       "      <td>-0.383023</td>\n",
       "      <td>0.185888</td>\n",
       "    </tr>\n",
       "    <tr>\n",
       "      <th>2</th>\n",
       "      <td>0.937033</td>\n",
       "      <td>0.108462</td>\n",
       "      <td>-0.185899</td>\n",
       "      <td>-0.275220</td>\n",
       "    </tr>\n",
       "    <tr>\n",
       "      <th>3</th>\n",
       "      <td>0.804943</td>\n",
       "      <td>0.491658</td>\n",
       "      <td>0.189635</td>\n",
       "      <td>0.272907</td>\n",
       "    </tr>\n",
       "  </tbody>\n",
       "</table>\n",
       "</div>"
      ],
      "text/plain": [
       "          0         1         2         3\n",
       "0  0.286872 -0.823884  0.484493 -0.065463\n",
       "1  0.306612 -0.851368 -0.383023  0.185888\n",
       "2  0.937033  0.108462 -0.185899 -0.275220\n",
       "3  0.804943  0.491658  0.189635  0.272907"
      ]
     },
     "execution_count": 185,
     "metadata": {},
     "output_type": "execute_result"
    }
   ],
   "source": [
    "# delta 얻기\n",
    "Delta = U @ np.sqrt(L)\n",
    "pd.DataFrame(Delta)"
   ]
  },
  {
   "cell_type": "markdown",
   "metadata": {},
   "source": [
    "## 인자점수 도출하기\n",
    "* 인자점수는 변수 $X$에 원인 $F$가 얼마나 영향을 끼쳤는지를 이야기하는 지표이다.\n",
    "* 회귀분석의 회귀계수 $\\Beta$에 해당한다고 할 수 있다.\n",
    "* 다음과 같은 공식으로 구한다. (회귀분석의 GLS를 차용)\n",
    "\n",
    "$$\n",
    "F = ({\\Delta}^T {\\Psi}^{-1} {\\Delta})^{-1} {\\Delta}^T {\\Psi}^{-1} {X}\n",
    "$$\n"
   ]
  },
  {
   "cell_type": "code",
   "execution_count": 200,
   "metadata": {},
   "outputs": [
    {
     "name": "stdout",
     "output_type": "stream",
     "text": [
      "1번째 인자점수는 다음과 같다.\n",
      "[-1.23875585 -0.4934509  -0.06052709  0.21970886]\n"
     ]
    }
   ],
   "source": [
    "# 1번째 인자점수 (GLS로 도출)\n",
    "n = 1\n",
    "print(f\"{n}번째 인자점수는 다음과 같다.\")\n",
    "\n",
    "f = np.linalg.inv(D.T @ np.linalg.inv(psi) @ D) @ D.T @ np.linalg.inv(psi) @ d1[n-1, :]\n",
    "print(f)"
   ]
  },
  {
   "cell_type": "markdown",
   "metadata": {},
   "source": [
    "요인분석을 직접 행렬로 풀어보면 다음과 같음.\n",
    "\n",
    "$$\n",
    "\\begin{pmatrix}\n",
    "x_{11} & x_{12} & x_{13} & x_{14} \\\\\n",
    "x_{21} & x_{22} & x_{23} & x_{24} \\\\\n",
    "x_{31} & x_{32} & x_{33} & x_{34} \\\\\n",
    "x_{41} & x_{42} & x_{43} & x_{44} \\\\\n",
    "\\end{pmatrix}\n",
    "=\n",
    "\\begin{pmatrix}\n",
    "\\delta_{11} & \\delta_{12} & \\delta_{13} & \\delta_{14} \\\\\n",
    "\\delta_{21} & \\delta_{22} & \\delta_{23} & \\delta_{24} \\\\\n",
    "\\delta_{31} & \\delta_{32} & \\delta_{33} & \\delta_{34} \\\\\n",
    "\\delta_{41} & \\delta_{42} & \\delta_{43} & \\delta_{44} \\\\\n",
    "\\end{pmatrix}\n",
    "\\begin{pmatrix}\n",
    "f_{1} \\\\\n",
    "f_{2} \\\\\n",
    "f_{3} \\\\\n",
    "f_{4}\n",
    "\\end{pmatrix}\n",
    "+\n",
    "\\begin{pmatrix}\n",
    "\\epsilon_{1} \\\\\n",
    "\\epsilon_{2} \\\\\n",
    "\\epsilon_{3} \\\\\n",
    "\\epsilon_{4}\n",
    "\\end{pmatrix}\n",
    "$$\n",
    "\n",
    "이때, 위에서 파이썬으로 구한 값은 바로 \n",
    "$\\begin{pmatrix}\n",
    "\\delta_{11} & \\delta_{12} & \\delta_{13} & \\delta_{14} \\\\\n",
    "\\end{pmatrix}\n",
    "$ \n",
    "에 헤당."
   ]
  }
 ],
 "metadata": {
  "kernelspec": {
   "display_name": "myenv",
   "language": "python",
   "name": "python3"
  },
  "language_info": {
   "codemirror_mode": {
    "name": "ipython",
    "version": 3
   },
   "file_extension": ".py",
   "mimetype": "text/x-python",
   "name": "python",
   "nbconvert_exporter": "python",
   "pygments_lexer": "ipython3",
   "version": "3.12.4"
  }
 },
 "nbformat": 4,
 "nbformat_minor": 2
}
