{
 "cells": [
  {
   "cell_type": "markdown",
   "metadata": {},
   "source": [
    "# 요인분석 : 특이케이스"
   ]
  },
  {
   "cell_type": "code",
   "execution_count": 2,
   "metadata": {},
   "outputs": [],
   "source": [
    "import numpy as np\n",
    "import pandas as pd\n",
    "from scipy.stats import wishart, multivariate_normal\n",
    "from sklearn.preprocessing import StandardScaler\n",
    "from factor_analyzer import FactorAnalyzer, Rotator\n",
    "import matplotlib.pyplot as plt\n",
    "from scipy.linalg import block_diag"
   ]
  },
  {
   "cell_type": "markdown",
   "metadata": {},
   "source": [
    "# 시계열 구조 (1)\n",
    "* 공분산행렬이 AR(1) 구조인 경우\n",
    "* 우선 자료부터 생성해보자"
   ]
  },
  {
   "cell_type": "code",
   "execution_count": 3,
   "metadata": {},
   "outputs": [],
   "source": [
    "# 자료 만들기 : 시계열구조\n",
    "pp = 3\n",
    "\n",
    "def AR_cov(r, p):\n",
    "    return r**np.abs(np.subtract.outer(np.arange(p), np.arange(p)))\n",
    "\n",
    "np.random.seed(2022)\n",
    "m1 = wishart.rvs(df=pp, scale=AR_cov(0.9, pp), size=1)\n",
    "m2 = wishart.rvs(df=pp, scale=AR_cov(0.1, pp), size=1)"
   ]
  },
  {
   "cell_type": "code",
   "execution_count": 4,
   "metadata": {},
   "outputs": [
    {
     "name": "stdout",
     "output_type": "stream",
     "text": [
      "\n",
      "Matrix m1:\n",
      "      0     1     2\n",
      "0  9.78  8.80  7.55\n",
      "1  8.80  8.32  7.11\n",
      "2  7.55  7.11  6.71\n"
     ]
    }
   ],
   "source": [
    "print(\"\\nMatrix m1:\")\n",
    "print(pd.DataFrame(np.round(m1, 2)))"
   ]
  },
  {
   "cell_type": "code",
   "execution_count": 5,
   "metadata": {},
   "outputs": [
    {
     "name": "stdout",
     "output_type": "stream",
     "text": [
      "\n",
      "Matrix m2:\n",
      "      0     1     2\n",
      "0  0.06  0.09  0.10\n",
      "1  0.09  2.07  0.23\n",
      "2  0.10  0.23  1.56\n"
     ]
    }
   ],
   "source": [
    "print(\"\\nMatrix m2:\")\n",
    "print(pd.DataFrame(np.round(m2, 2)))"
   ]
  },
  {
   "cell_type": "markdown",
   "metadata": {},
   "source": [
    "# 시계열 구조 (2)\n",
    "* 2개의 집단 : 일반 + 시계열 -> 겹친 형태의 행렬"
   ]
  },
  {
   "cell_type": "code",
   "execution_count": 6,
   "metadata": {},
   "outputs": [
    {
     "name": "stdout",
     "output_type": "stream",
     "text": [
      "\n",
      "Combined Matrix:\n",
      "     0    1    2     3    4     5\n",
      "0  1.0  0.0  0.0  0.00  0.0  0.00\n",
      "1  0.0  1.0  0.0  0.00  0.0  0.00\n",
      "2  0.0  0.0  1.0  0.00  0.0  0.00\n",
      "3  0.0  0.0  0.0  1.00  0.1  0.01\n",
      "4  0.0  0.0  0.0  0.10  1.0  0.10\n",
      "5  0.0  0.0  0.0  0.01  0.1  1.00\n"
     ]
    }
   ],
   "source": [
    "combined_matrix = block_diag(np.identity(3), AR_cov(0.1, 3))\n",
    "print(\"\\nCombined Matrix:\")\n",
    "print(pd.DataFrame(np.round(combined_matrix, 2)))"
   ]
  },
  {
   "cell_type": "code",
   "execution_count": 7,
   "metadata": {},
   "outputs": [
    {
     "name": "stdout",
     "output_type": "stream",
     "text": [
      "\n",
      "Factor Analysis for adjacent groups (Varimax rotation):\n",
      "[[ 0.74606624 -0.04840634  0.15029679]\n",
      " [ 0.30026933 -0.2710685   0.91586555]\n",
      " [-0.38652636 -0.64137004 -0.06661851]\n",
      " [-0.04394951  0.74877946 -0.22467767]\n",
      " [-0.47340174 -0.05274745  0.66805166]\n",
      " [ 0.04337934  0.70020816 -0.12958172]\n",
      " [ 0.90311973  0.38246159 -0.23569236]]\n"
     ]
    }
   ],
   "source": [
    "pp = 8\n",
    "Sigma = wishart.rvs(df=pp, scale=np.identity(pp), size=1)\n",
    "mu = np.zeros(pp)\n",
    "\n",
    "# 인접 집단\n",
    "pp = 8\n",
    "n = 1000\n",
    "mu = np.zeros(pp)\n",
    "d1 = multivariate_normal.rvs(mean=mu, cov=Sigma, size=n)\n",
    "d1 = pd.DataFrame(StandardScaler().fit_transform(d1), columns=[f'X{i}' for i in range(1, pp + 1)])\n",
    "\n",
    "fa_adj = FactorAnalyzer(n_factors=3, rotation='varimax')\n",
    "fa_adj.fit(d1.drop(columns='X4'))\n",
    "\n",
    "print(\"\\nFactor Analysis for adjacent groups (Varimax rotation):\")\n",
    "print(fa_adj.loadings_)"
   ]
  }
 ],
 "metadata": {
  "kernelspec": {
   "display_name": "myenv",
   "language": "python",
   "name": "python3"
  },
  "language_info": {
   "codemirror_mode": {
    "name": "ipython",
    "version": 3
   },
   "file_extension": ".py",
   "mimetype": "text/x-python",
   "name": "python",
   "nbconvert_exporter": "python",
   "pygments_lexer": "ipython3",
   "version": "3.12.5"
  }
 },
 "nbformat": 4,
 "nbformat_minor": 2
}
