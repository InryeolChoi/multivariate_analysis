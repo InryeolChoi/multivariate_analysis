{
 "cells": [
  {
   "cell_type": "markdown",
   "metadata": {},
   "source": [
    "# 요인분석의 필요성\n",
    "* 요인분석은 다변량 데이터에서 잠재적인 요인을 식별하고 데이터 구조를 단순화하는데 유용한 기법임. \n",
    "* 그러나 요인분석을 수행하기 전에 데이터가 요인분석에 적합한지 여부를 판단하는 것이 중요함. \n",
    "* 요인분석의 필요성을 점검하는 이유는 다음과 같음:\n",
    "\n",
    "    1. 적합성 검증: 요인분석은 데이터가 요인 구조를 가지는 경우에만 유효함.\n",
    "    2. 분석의 효율성: 데이터가 요인분석에 적합하지 않다면, 요인분석을 통해 얻은 결과는 신뢰할 수 없으며, 잘못된 결론을 초래할 수 있음\n",
    "    3. 해석의 정확성: 요인분석의 결과는 데이터의 구조적 특성을 반영함."
   ]
  },
  {
   "cell_type": "markdown",
   "metadata": {},
   "source": [
    "## 자료 생성"
   ]
  },
  {
   "cell_type": "code",
   "execution_count": 16,
   "metadata": {},
   "outputs": [],
   "source": [
    "import numpy as np\n",
    "import pandas as pd\n",
    "from scipy.linalg import sqrtm, inv\n",
    "from scipy.stats import multivariate_normal, bartlett\n",
    "from sklearn.preprocessing import StandardScaler\n",
    "from factor_analyzer.factor_analyzer import calculate_kmo"
   ]
  },
  {
   "cell_type": "code",
   "execution_count": 17,
   "metadata": {},
   "outputs": [],
   "source": [
    "# 시드값 설정\n",
    "np.random.seed(2023)\n",
    "\n",
    "# 자료 만들기\n",
    "D = np.diag([1, 2, 0.4, 2])\n",
    "data = [1, 0.6, 0.1, -0.1,\n",
    "        0.6, 1, 0.2, -0.2,\n",
    "        0.1, 0.2, 1, 0.7,\n",
    "       -0.1, -0.2, 0.7, 1]\n",
    "rr = np.array(data).reshape(4, 4)\n",
    "Sigma = sqrtm(D) @ rr @ sqrtm(D)\n",
    "\n",
    "n = 10000\n",
    "mu = np.zeros(rr.shape[0])\n",
    "np.random.seed(2023)\n",
    "d1 = StandardScaler().fit_transform(multivariate_normal.rvs(mean=mu, cov=Sigma, size=n))\n",
    "\n",
    "# 공분산 행렬 계산\n",
    "R = np.cov(d1, rowvar=False)"
   ]
  },
  {
   "cell_type": "markdown",
   "metadata": {},
   "source": [
    "## kmo 점수\n",
    "* Kaiser–Meyer–Olkin (KMO) 점수는 데이터셋이 요인분석에 적합한지 여부를 판단하기 위한 지표. \n",
    "* KMO 점수는 변수 간의 상관관계와 부분 상관관계의 비율을 기반으로 계산됨. \n",
    "* 요인분석을 수행하기 전에 데이터의 적합성을 평가하는 데 중요한 역할을 함.\n",
    "\n",
    "\n",
    "* KMO 점수가 높을수록 변수 간의 상관관계가 요인분석에 적합함을 의미함."
   ]
  },
  {
   "cell_type": "code",
   "execution_count": 13,
   "metadata": {},
   "outputs": [],
   "source": [
    "def is_factor_analysis_needed(kmo_score):\n",
    "    if kmo_score < 0.5: return \"요인분석 불필요\"\n",
    "    elif kmo_score < 0.6: return \"불만족스러움\"\n",
    "    elif kmo_score < 0.7: return \"보통\"\n",
    "    elif kmo_score < 0.8: return \"양호\"\n",
    "    elif kmo_score < 0.9: return \"아주 양호\"\n",
    "    else: return \"탁월함\""
   ]
  },
  {
   "cell_type": "code",
   "execution_count": 14,
   "metadata": {},
   "outputs": [
    {
     "name": "stdout",
     "output_type": "stream",
     "text": [
      "KMO 지수: 0.4195477986334677\n",
      "KMO 지수에 따른 요인분석 필요성 판단: 요인분석 불필요\n"
     ]
    }
   ],
   "source": [
    "kmo_all, kmo_model = calculate_kmo(d1)\n",
    "print(\"KMO 지수:\", kmo_model)\n",
    "kmo_judgement = is_factor_analysis_needed(kmo_model)\n",
    "print(\"KMO 지수에 따른 요인분석 필요성 판단:\", kmo_judgement)"
   ]
  },
  {
   "cell_type": "markdown",
   "metadata": {},
   "source": [
    "## kmo 지수의 원리\n",
    "1. 역행렬 $R^{-1}$ 계산: 변수들 간의 부분 상관관계를 계산하는 데 사용됨.\n",
    "2. 부분 상관관계 행렬 Q 계산:\n",
    "\n",
    "$$\n",
    "S_{i} = \\sqrt{1 / R^{-1}_{ii}} \\\\[5pt]\n",
    "Q = S R^{-1} S\n",
    "$$\n",
    "* 여기서 $S$는 $s_i$ 값을 대각 성분으로 가지는 대각 행렬임.\n",
    "\n",
    "3. 상관 행렬과 부분 상관 행렬의 제곱 합 계산:\n",
    "* 상관 행렬 $R$ 에서 주대각 성분을 제외한 요소들의 제곱 합을 계산함:\n",
    "$$\n",
    "\\sum{r^2} = \\sum~{(R - diag(R))}^2 \\\\[5pt]\n",
    "\\sum{q^2} = \\sum~{(Q - diag(Q))}^2\n",
    "$$\n",
    "\n",
    "4. kmo 점수 도출\n",
    "$$\n",
    "\\frac{\\sum{r^2}}{\\sum{r^2} + \\sum{q^2}}\n",
    "$$"
   ]
  },
  {
   "cell_type": "code",
   "execution_count": null,
   "metadata": {},
   "outputs": [],
   "source": [
    "# 분자 계산\n",
    "s1 = np.diag(np.sqrt(1 / np.diag(np.linalg.inv(R))))\n",
    "q1 = s1 @ np.linalg.inv(R) @ s1\n",
    "\n",
    "# 분모 계산\n",
    "sum_r2 = np.sum((R - np.diag(np.diag(R))) ** 2)\n",
    "sum_q2 = np.sum((q1 - np.diag(np.diag(q1))) ** 2)\n",
    "kmo_value = sum_r2 / (sum_r2 + sum_q2)\n",
    "print(\"KMO 지수의 원리 계산값:\", kmo_value)"
   ]
  },
  {
   "cell_type": "markdown",
   "metadata": {},
   "source": [
    "## 구형성 검정\n",
    "* 구형성 검정(Bartlett’s Test of Sphericity)은 데이터가 요인분석에 적합한지 판단하는 데 사용됨.\n",
    "\n",
    "* 데이터의 상관 행렬이 단위 행렬(identity matrix)인지 여부를 검정.\n",
    "\n",
    "* 기본 가정 $H_0$ : 데이터의 상관 행렬이 단위 행렬 $I$."
   ]
  },
  {
   "cell_type": "code",
   "execution_count": 15,
   "metadata": {},
   "outputs": [],
   "source": [
    "def is_hypothesis_rejected(chi_square, p_value, alpha=0.05):\n",
    "    if p_value < alpha:\n",
    "        return \"귀무가설 기각\"\n",
    "    else:\n",
    "        return \"귀무가설 채택\""
   ]
  },
  {
   "cell_type": "code",
   "execution_count": 8,
   "metadata": {},
   "outputs": [
    {
     "name": "stdout",
     "output_type": "stream",
     "text": [
      "Bartlett's Test Chi-square value: -2.219909454562642e-12\n",
      "Bartlett's Test p-value: 1.0\n"
     ]
    }
   ],
   "source": [
    "chi_square_value, p_value = bartlett(*d1.T)\n",
    "print(\"Bartlett's Test Chi-square value:\", chi_square_value)\n",
    "print(\"Bartlett's Test p-value:\", p_value)\n",
    "\n",
    "bartlett_judgement = is_hypothesis_rejected(chi_square_value, p_value)\n",
    "print(\"Bartlett's Test에 따른 기각 여부 판단:\", bartlett_judgement)"
   ]
  },
  {
   "cell_type": "markdown",
   "metadata": {},
   "source": [
    "## 구형성 검정의 원리\n",
    "구형성 검정은 다음과 같은 단계를 통해 수행됨:\n",
    "1. 상관 행렬 계산:\n",
    "* 주어진 데이터 행렬 $X$로부터 상관 행렬 $R$를 계산함. \n",
    "* 상관 행렬 $R$은 각 변수 간의 상관관계를 나타내는 대칭 행렬임.\n",
    "\n",
    "2. 검정 통계량 계산:\n",
    "* Bartlett의 구형성 검정 통계량 $\\chi^2$ 는 다음과 같이 계산됨:\n",
    "$$\n",
    "\\chi^2 = -\\left( n - 1 - \\frac{2p + 5}{6} \\right) \\log|\\mathbf{R}|\n",
    "$$\n",
    "* 여기서 $n$은 표본의 크기, $p$ 는 변수의 수,  $log|\\mathbf{R}|$ 은 상관 행렬 $R$ 의 행렬식의 로그임.\n",
    "\n",
    "3.\t자유도 계산:\n",
    "검정의 자유도는 다음과 같이 계산됨:\n",
    "\n",
    "$$\n",
    "df = \\frac{p(p-1)}{2}\n",
    "$$\n",
    "\n",
    "4.\tp-값 계산:\n",
    "검정 통계량 $\\chi^2$ 와 자유도를 이용하여 p-값을 계산함. p-값은 검정 통계량이 귀무가설 하에서 관찰될 확률을 나타냄.\n",
    "\n",
    "5.\t귀무가설의 기각 여부 결정:\n",
    "일반적으로 유의수준 $\\alpha$ 를 0.05로 설정하며, p-값이 이 값보다 작으면 귀무가설을 기각함. 귀무가설이 기각되면, 상관 행렬이 단위 행렬이 아니므로 요인분석이 적합함을 의미함.\n"
   ]
  },
  {
   "cell_type": "code",
   "execution_count": 9,
   "metadata": {},
   "outputs": [
    {
     "name": "stdout",
     "output_type": "stream",
     "text": [
      "예시 데이터의 Bartlett's Test Chi-square value: 6.377516949957466\n",
      "예시 데이터의 Bartlett's Test p-value: 0.7016205485210756\n"
     ]
    }
   ],
   "source": [
    "# 구형성 검정 예시\n",
    "np.random.seed(42)\n",
    "x = np.random.randn(100, 10)\n",
    "r = np.corrcoef(x, rowvar=False)\n",
    "chi_square_value_example, p_value_example = bartlett(*x.T)\n",
    "print(\"예시 데이터의 Bartlett's Test Chi-square value:\", chi_square_value_example)\n",
    "print(\"예시 데이터의 Bartlett's Test p-value:\", p_value_example)"
   ]
  }
 ],
 "metadata": {
  "kernelspec": {
   "display_name": "myenv",
   "language": "python",
   "name": "python3"
  },
  "language_info": {
   "codemirror_mode": {
    "name": "ipython",
    "version": 3
   },
   "file_extension": ".py",
   "mimetype": "text/x-python",
   "name": "python",
   "nbconvert_exporter": "python",
   "pygments_lexer": "ipython3",
   "version": "3.12.4"
  }
 },
 "nbformat": 4,
 "nbformat_minor": 2
}
