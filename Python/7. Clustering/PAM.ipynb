{
 "cells": [
  {
   "cell_type": "markdown",
   "metadata": {},
   "source": [
    "# PAM 기반 군집분석"
   ]
  },
  {
   "cell_type": "code",
   "execution_count": null,
   "metadata": {},
   "outputs": [],
   "source": [
    "import numpy as np\n",
    "import pandas as pd\n",
    "from sklearn.preprocessing import StandardScaler\n",
    "from pyclustering.cluster.kmedoids import kmedoids\n",
    "from pyclustering.utils import distance_metric, type_metric\n",
    "import matplotlib.pyplot as plt\n",
    "from pyclustering.cluster import cluster_visualizer"
   ]
  },
  {
   "cell_type": "code",
   "execution_count": null,
   "metadata": {},
   "outputs": [],
   "source": [
    "# 예제 데이터 생성\n",
    "data = {\n",
    "    'Country': ['A', 'B', 'C', 'D', 'E', 'F', 'G', 'H', 'I', 'J', 'K', 'L'],\n",
    "    'Feature1': [12, 34, 67, 10, 30, 10, 10, 10, 20, 40, 70, 15],\n",
    "    'Feature2': [23, 45, 78, 12, 35, 11, 9, 12, 22, 43, 72, 17]\n",
    "}\n",
    "df = pd.DataFrame(data)\n",
    "\n",
    "# 데이터 스케일링\n",
    "scaler = StandardScaler()\n",
    "scaled_data = scaler.fit_transform(df[['Feature1', 'Feature2']])"
   ]
  },
  {
   "cell_type": "code",
   "execution_count": null,
   "metadata": {},
   "outputs": [],
   "source": [
    "# PAM 군집화\n",
    "initial_medoids = [0, 1, 2, 3, 4]  # 초기 medoids 인덱스 (데이터 개수에 맞게 조정)\n",
    "metric = distance_metric(type_metric.EUCLIDEAN)\n",
    "kmedoids_instance = kmedoids(scaled_data, initial_medoids, metric=metric)\n",
    "kmedoids_instance.process()\n",
    "clusters = kmedoids_instance.get_clusters()"
   ]
  },
  {
   "cell_type": "code",
   "execution_count": null,
   "metadata": {},
   "outputs": [],
   "source": [
    "# 결과 시각화\n",
    "plt.figure(figsize=(12, 6))\n",
    "\n",
    "# 군집화 결과 플롯\n",
    "for cluster_id, cluster_points in enumerate(clusters):\n",
    "    cluster_data = np.array([scaled_data[point] for point in cluster_points])\n",
    "    plt.scatter(cluster_data[:, 0], cluster_data[:, 1], label=f'Cluster {cluster_id + 1}')\n",
    "\n",
    "# Plot medoids\n",
    "medoids = kmedoids_instance.get_medoids()\n",
    "medoid_data = np.array([scaled_data[medoid] for medoid in medoids])\n",
    "plt.scatter(medoid_data[:, 0], medoid_data[:, 1], color='red', marker='x', s=100, label='Medoids')\n",
    "\n",
    "plt.title('PAM Clustering (K-Medoids)')\n",
    "plt.xlabel('Feature1 (scaled)')\n",
    "plt.ylabel('Feature2 (scaled)')\n",
    "plt.legend()\n",
    "plt.show()"
   ]
  }
 ],
 "metadata": {
  "language_info": {
   "name": "python"
  }
 },
 "nbformat": 4,
 "nbformat_minor": 2
}
