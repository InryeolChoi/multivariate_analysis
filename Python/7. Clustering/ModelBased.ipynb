{
 "cells": [
  {
   "cell_type": "markdown",
   "metadata": {},
   "source": [
    "# 모형 기반 군집분석"
   ]
  },
  {
   "cell_type": "code",
   "execution_count": null,
   "metadata": {},
   "outputs": [],
   "source": [
    "import numpy as np\n",
    "import pandas as pd\n",
    "from sklearn.preprocessing import StandardScaler\n",
    "from sklearn.mixture import GaussianMixture\n",
    "import matplotlib.pyplot as plt"
   ]
  },
  {
   "cell_type": "code",
   "execution_count": null,
   "metadata": {},
   "outputs": [],
   "source": [
    "# 가상 데이터 생성 (d1 데이터프레임 생성)\n",
    "np.random.seed(42)\n",
    "data = {\n",
    "    'feature1': np.random.rand(100),\n",
    "    'feature2': np.random.rand(100),\n",
    "    'feature3': np.random.rand(100),\n",
    "    'feature4': np.random.rand(100)\n",
    "}\n",
    "d1 = pd.DataFrame(data)"
   ]
  },
  {
   "cell_type": "code",
   "execution_count": null,
   "metadata": {},
   "outputs": [],
   "source": [
    "# 데이터 스케일링\n",
    "scaler = StandardScaler()\n",
    "scaled_data = scaler.fit_transform(d1)"
   ]
  },
  {
   "cell_type": "code",
   "execution_count": null,
   "metadata": {},
   "outputs": [],
   "source": [
    "# 모형 기반 군집분석\n",
    "gmm = GaussianMixture(n_components=3, random_state=42)  # n_components는 군집 수\n",
    "gmm.fit(scaled_data)"
   ]
  },
  {
   "cell_type": "code",
   "execution_count": null,
   "metadata": {},
   "outputs": [],
   "source": [
    "# 군집 결과 요약\n",
    "labels = gmm.predict(scaled_data)\n",
    "print(\"군집 레이블:\")\n",
    "print(labels)\n",
    "\n",
    "print(\"\\n군집의 평균:\")\n",
    "print(gmm.means_)\n",
    "\n",
    "print(\"\\n군집의 공분산 행렬:\")\n",
    "print(gmm.covariances_)"
   ]
  },
  {
   "cell_type": "code",
   "execution_count": null,
   "metadata": {},
   "outputs": [],
   "source": [
    "# 군집 결과 시각화\n",
    "plt.figure(figsize=(10, 7))\n",
    "plt.scatter(scaled_data[:, 0], scaled_data[:, 1], c=labels, cmap='viridis', marker='o')\n",
    "plt.title('Model-Based Clustering Results')\n",
    "plt.xlabel('Feature 1')\n",
    "plt.ylabel('Feature 2')\n",
    "plt.colorbar​⬤"
   ]
  }
 ],
 "metadata": {
  "language_info": {
   "name": "python"
  }
 },
 "nbformat": 4,
 "nbformat_minor": 2
}
