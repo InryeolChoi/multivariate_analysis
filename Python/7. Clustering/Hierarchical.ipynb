{
 "cells": [
  {
   "cell_type": "markdown",
   "metadata": {},
   "source": [
    "# 계보적 군집분석"
   ]
  },
  {
   "cell_type": "code",
   "execution_count": null,
   "metadata": {},
   "outputs": [],
   "source": [
    "import numpy as np\n",
    "import pandas as pd\n",
    "import matplotlib.pyplot as plt\n",
    "from scipy.cluster.hierarchy import dendrogram, linkage, fcluster\n",
    "from scipy.spatial.distance import pdist, squareform\n",
    "from sklearn.preprocessing import StandardScaler"
   ]
  },
  {
   "cell_type": "code",
   "execution_count": null,
   "metadata": {},
   "outputs": [],
   "source": [
    "# 가상 데이터 생성 (d1 데이터프레임 생성)\n",
    "np.random.seed(42)\n",
    "data = {\n",
    "    'country': ['Country1', 'Country2', 'Country3', 'Country4', 'Country5',\n",
    "                'Country6', 'Country7', 'Country8', 'Country9', 'Country10',\n",
    "                'Country11', 'Country12'],\n",
    "    'feature1': np.random.rand(12),\n",
    "    'feature2': np.random.rand(12),\n",
    "    'feature3': np.random.rand(12),\n",
    "    'feature4': np.random.rand(12)\n",
    "}\n",
    "d1 = pd.DataFrame(data)"
   ]
  },
  {
   "cell_type": "code",
   "execution_count": null,
   "metadata": {},
   "outputs": [],
   "source": [
    "# 데이터 스케일링\n",
    "scaler = StandardScaler()\n",
    "scaled_data = scaler.fit_transform(d1.drop('country', axis=1))"
   ]
  },
  {
   "cell_type": "code",
   "execution_count": null,
   "metadata": {},
   "outputs": [],
   "source": [
    "# 계보적 군집분석\n",
    "distances = pdist(scaled_data)  # 거리 계산\n",
    "linkage_matrix = linkage(distances, method='ward')  # 계보적 군집 분석"
   ]
  },
  {
   "cell_type": "code",
   "execution_count": null,
   "metadata": {},
   "outputs": [],
   "source": [
    "# 시각화\n",
    "plt.figure(figsize=(10, 7))\n",
    "dendrogram(linkage_matrix, labels=d1['country'].values)\n",
    "plt.title('Dendrogram')\n",
    "plt.xlabel('Country')\n",
    "plt.ylabel('Distance')\n",
    "plt.show()\n",
    "\n",
    "# 군집 할당\n",
    "num_clusters = 5\n",
    "clusters = fcluster(linkage_matrix, num_clusters, criterion='maxclust')\n",
    "\n",
    "# 데이터에 군집 정보를 추가\n",
    "d1['cluster'] = clusters\n",
    "print(\"\\nClustered DataFrame:\")\n",
    "print(d1)"
   ]
  },
  {
   "cell_type": "code",
   "execution_count": null,
   "metadata": {},
   "outputs": [],
   "source": [
    "# 군집별 데이터 집계\n",
    "cluster_summary = d1.groupby('cluster').mean()\n",
    "print(\"\\nCluster Summary:\")\n",
    "print(cluster_summary)\n",
    "\n",
    "# 평균을 군집별로 묶고 시각화\n",
    "colors = ['white', 'yellow', 'green', 'cyan', 'black']\n",
    "plt.figure(figsize=(10, 7))\n",
    "bar_width = 0.5\n",
    "bar_positions = np.arange(len(cluster_summary.columns) - 1)  # 제외할 첫 번째 열 'cluster'\n",
    "\n",
    "for i, color in enumerate(colors):\n",
    "    plt.bar(bar_positions + i * bar_width, cluster_summary.iloc[i, 1:], \n",
    "            width=bar_width, color=color, label=f'Cluster {i + 1}')\n",
    "\n",
    "plt.xticks(bar_positions + (len(colors) - 1) * bar_width / 2, cluster_summary.columns[1:])\n",
    "plt.xlabel('Features')\n",
    "plt.ylabel('Mean Value')\n",
    "plt.title('Cluster Means by Feature')\n",
    "plt.legend(title='Cluster')\n",
    "plt.show()"
   ]
  }
 ],
 "metadata": {
  "language_info": {
   "name": "python"
  }
 },
 "nbformat": 4,
 "nbformat_minor": 2
}
