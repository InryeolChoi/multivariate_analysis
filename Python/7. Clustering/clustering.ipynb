{
 "cells": [
  {
   "cell_type": "markdown",
   "metadata": {},
   "source": [
    "# 군집분석 (1) : intro"
   ]
  },
  {
   "cell_type": "markdown",
   "metadata": {},
   "source": [
    "군집분석은 데이터의 관찰값들을 서로 비슷한 그룹으로 나누는 통계적 기법이다. 이러한 분석은 데이터에서 유사한 특성을 가진 항목들을 그룹화하여 패턴이나 구조를 발견하는 데 도움을 준다. 군집분석은 다음과 같은 상황에서 유용하게 사용된다:\n",
    "\n",
    "* 데이터 탐색: 데이터의 패턴을 이해하고, 구조를 시각화하며, 변수 간의 관계를 분석하는 데 사용된다.\n",
    "* 패턴 인식: 비슷한 특성을 가진 데이터 그룹을 식별하여, 이를 기반으로 추가 분석이나 의사결정을 할 수 있다.\n",
    "* 모델 개선: 데이터 전처리 과정에서 군집 분석을 통해 데이터를 군집화하여, 모델의 성능을 향상시킬 수 있다."
   ]
  },
  {
   "cell_type": "markdown",
   "metadata": {},
   "source": [
    "# 군집분석의 종류"
   ]
  },
  {
   "cell_type": "markdown",
   "metadata": {},
   "source": [
    "군집분석에는 다양한 기법이 있으며, 이들 각각은 서로 다른 특성과 장점을 가진다.  \n",
    "다음은 주요 군집분석 기법들이다:"
   ]
  },
  {
   "cell_type": "markdown",
   "metadata": {},
   "source": [
    "## 1. K-평균 군집화 (K-Means Clustering)"
   ]
  },
  {
   "cell_type": "markdown",
   "metadata": {},
   "source": [
    "K-평균 군집화는 데이터를 $K$개의 클러스터로 나누는 군집분석 방법이다. 이 방법은 군집의 중심을 계산하고, 각 데이터 포인트를 가장 가까운 군집의 중심에 할당하는 과정을 반복한다. 주요 특징은 다음과 같다:\n",
    "\n",
    "* 목표: 군집 내의 분산을 최소화하는 것이다.\n",
    "* 계산 과정: 각 클러스터의 중심을 업데이트하고, 데이터 포인트를 재할당하여 군집의 중심을 점진적으로 개선한다.\n",
    "* 수식: 군집의 분산을 최소화하기 위해 다음과 같은 비용 함수를 사용한다:\n",
    "\n",
    "$$\n",
    "J = \\sum_{i=1}^{K} \\sum_{x \\in C_i} | x - \\mu_i |^2\n",
    "$$\n",
    "여기서 $C_i$는 $i$번째 클러스터, $\\mu_i$는 $i$번째 클러스터의 중심, $x$는 데이터 포인트이다."
   ]
  },
  {
   "cell_type": "markdown",
   "metadata": {},
   "source": [
    "## 2. 계층적 군집화 (Hierarchical Clustering)"
   ]
  },
  {
   "cell_type": "markdown",
   "metadata": {},
   "source": [
    "계층적 군집화는 데이터의 군집을 계층적으로 구성하는 방법이다. 두 가지 주요 방법이 있다:\n",
    "\n",
    "* 병합 계층적 군집화 (Agglomerative): 모든 데이터를 개별 클러스터로 시작하여, 가장 유사한 클러스터들을 반복적으로 병합한다.\n",
    "* 분할 계층적 군집화 (Divisive): 모든 데이터를 하나의 클러스터로 시작하여, 클러스터를 반복적으로 분할한다.\n",
    "* 시각화: 계층적 군집화는 덴드로그램을 사용하여 군집의 관계를 시각적으로 나타낸다."
   ]
  },
  {
   "cell_type": "markdown",
   "metadata": {},
   "source": [
    "## 3. PAM (Partitioning Around Medoids)"
   ]
  },
  {
   "cell_type": "markdown",
   "metadata": {},
   "source": [
    "PAM, 또는 K-Medoids는 K-평균 군집화와 유사하지만, 클러스터의 중심이 실제 데이터 포인트가 되는 방법이다. 이 방법은 클러스터의 중심이 데이터 포인트 중 하나로 선택되며, 이로 인해 군집의 질이 향상될 수 있다.\n",
    "\n",
    "* 거리 함수 : PAM에서는 Manhattan 거리, Euclidean 거리 등을 사용하여 클러스터링을 수행할 수 있다.\n",
    "* 목표 : 각 클러스터의 멤버십을 최적화하고, 군집의 중심을 선택하여 전체 비용을 최소화하는 것이다."
   ]
  },
  {
   "cell_type": "markdown",
   "metadata": {},
   "source": [
    "## 4. 모형 기반 군집화 (Model-Based Clustering)"
   ]
  },
  {
   "cell_type": "markdown",
   "metadata": {},
   "source": [
    "모형 기반 군집화는 데이터가 특정 분포를 따른다고 가정하고, 이 분포에 기반하여 군집을 찾는 방법이다.  \n",
    "대표적인 예로 Gaussian Mixture Models (GMM)이 있다.  \n",
    "\n",
    "* 목표: 데이터의 분포를 모형화하여 군집을 찾고, 이를 기반으로 군집의 수를 결정한다.\n",
    "* 수식: GMM에서는 각 군집이 가우시안 분포를 따른다고 가정하며, 모형의 매개변수는 최대우도추정법(Maximum Likelihood Estimation, MLE)으로 추정한다.\n",
    "\n",
    "$$\n",
    "p(x|\\theta) = \\sum_{k=1}^{K} \\pi_k~\\mathcal{N}(x|\\mu_k, \\Sigma_k)\n",
    "$$\n",
    "\n",
    "여기서 $p(x|\\theta)$는 데이터 $x$의 확률, $\\pi_k$는 $k$번째 군집의 혼합 비율, $\\mathcal{N}(x|\\mu_k, \\Sigma_k)$는 가우시안 분포이다.\n",
    "\n",
    "군집분석은 데이터 탐색과 분석에서 매우 유용한 도구로, 다양한 기법을 통해 데이터의 구조를 이해하고 패턴을 발견하는 데 중요한 역할을 한다. 각 기법의 특성과 장점을 이해하고 적절한 방법을 선택하여 분석을 수행하는 것이 중요하다."
   ]
  },
  {
   "cell_type": "markdown",
   "metadata": {},
   "source": []
  }
 ],
 "metadata": {
  "kernelspec": {
   "display_name": "myenv",
   "language": "python",
   "name": "python3"
  },
  "language_info": {
   "codemirror_mode": {
    "name": "ipython",
    "version": 3
   },
   "file_extension": ".py",
   "mimetype": "text/x-python",
   "name": "python",
   "nbconvert_exporter": "python",
   "pygments_lexer": "ipython3",
   "version": "3.12.4"
  }
 },
 "nbformat": 4,
 "nbformat_minor": 2
}
